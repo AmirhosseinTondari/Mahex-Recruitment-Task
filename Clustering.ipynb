{
 "cells": [
  {
   "cell_type": "markdown",
   "id": "2176e8f3",
   "metadata": {},
   "source": [
    "<font color='red'>\n",
    "    .به دلیل این که نقشه ها به صورت تعاملی می باشند در صورتی که نقشه ای را نمی بینید باید نوت بوک را اجرا کنید\n",
    "    .با کلیک بر روی هر نقطه میتوانید شماره سفارش و شماره خوشه آن را مشاهده کنید\n",
    "</font>"
   ]
  },
  {
   "cell_type": "markdown",
   "id": "da5526f1",
   "metadata": {},
   "source": [
    "# Imports"
   ]
  },
  {
   "cell_type": "markdown",
   "id": "9469122d",
   "metadata": {},
   "source": [
    "## pakages"
   ]
  },
  {
   "cell_type": "code",
   "execution_count": null,
   "id": "549fd964",
   "metadata": {},
   "outputs": [],
   "source": [
    "# Data Handling\n",
    "import numpy as np\n",
    "import pandas as pd\n",
    "\n",
    "# Data Visualization\n",
    "import matplotlib.pyplot as plt\n",
    "import seaborn as sns\n",
    "import folium as fo\n",
    "\n",
    "# Utils\n",
    "import os\n",
    "import copy\n",
    "import random\n",
    "\n",
    "# model\n",
    "from sklearn.cluster import KMeans"
   ]
  },
  {
   "cell_type": "code",
   "execution_count": null,
   "id": "d34fa93d",
   "metadata": {},
   "outputs": [],
   "source": [
    "class cfg:\n",
    "    base_dir = os.getcwd()\n",
    "    data_dir = f'{os.getcwd()}\\\\Data\\\\DC-DATA.xlsx'\n",
    "    color = sns.color_palette()"
   ]
  },
  {
   "cell_type": "markdown",
   "id": "ca5e825f",
   "metadata": {},
   "source": [
    "## Data"
   ]
  },
  {
   "cell_type": "code",
   "execution_count": null,
   "id": "e1cf1ad8",
   "metadata": {},
   "outputs": [],
   "source": [
    "df = pd.read_excel(cfg.data_dir, sheet_name=1)\n",
    "df.tail()"
   ]
  },
  {
   "cell_type": "code",
   "execution_count": null,
   "id": "7349c0ff",
   "metadata": {},
   "outputs": [],
   "source": [
    "df.dtypes"
   ]
  },
  {
   "cell_type": "code",
   "execution_count": null,
   "id": "889420df",
   "metadata": {},
   "outputs": [],
   "source": [
    "df = df.set_index('شماره سفارش')\n",
    "df.head()"
   ]
  },
  {
   "cell_type": "code",
   "execution_count": null,
   "id": "32f16e14",
   "metadata": {},
   "outputs": [],
   "source": [
    "lats=[]\n",
    "longs=[]\n",
    "for l in df['Lat Long'].values:\n",
    "    lat, long = l[6:-1].split(' ')\n",
    "    lats.append(float(lat))\n",
    "    longs.append(float(long))\n",
    "\n",
    "df['Lats'] = lats\n",
    "df['Longs'] = longs\n",
    "df = df.drop(['Lat Long'], axis=1)"
   ]
  },
  {
   "cell_type": "code",
   "execution_count": null,
   "id": "0ad22a83",
   "metadata": {},
   "outputs": [],
   "source": [
    "df.head()"
   ]
  },
  {
   "cell_type": "code",
   "execution_count": null,
   "id": "1c7029c1",
   "metadata": {},
   "outputs": [],
   "source": [
    "tehran = fo.Map(location=[35.7219, 51.3347], zoom_start=11)\n",
    "for (i,lat,long) in zip(df.index.values, df.Lats, df.Longs):\n",
    "    fo.CircleMarker(location=(long,lat), radius=3, popup=i, fill=True).add_to(tehran)"
   ]
  },
  {
   "cell_type": "code",
   "execution_count": null,
   "id": "ccbfd788",
   "metadata": {},
   "outputs": [],
   "source": [
    "tehran"
   ]
  },
  {
   "cell_type": "code",
   "execution_count": null,
   "id": "90135d97",
   "metadata": {},
   "outputs": [],
   "source": [
    "n = 50  # number of clusters: number of operational vehicles\n",
    "\n",
    "model = KMeans(n_clusters=n)\n",
    "model.fit(df[['Lats', 'Longs']])"
   ]
  },
  {
   "cell_type": "code",
   "execution_count": null,
   "id": "82ab5322",
   "metadata": {},
   "outputs": [],
   "source": [
    "color_pal = []\n",
    "for i in range(n):\n",
    "    hex_color = \"#\"+''.join([random.choice('ABCDEF0123456789') for i in range(6)])\n",
    "    color_pal.append(hex_color)\n",
    "\n",
    "color_pal = sns.color_palette(color_pal)\n",
    "color_pal = color_pal.as_hex()\n",
    "\n",
    "df['cluster'] = model.labels_\n",
    "\n",
    "centroids = model.cluster_centers_\n",
    "max_d = []\n",
    "for i, c in enumerate(centroids):\n",
    "    d = []\n",
    "    for p in df.loc[df.cluster==i].values:\n",
    "        l = (p[0], p[1])\n",
    "        d.append(np.linalg.norm(l-c))\n",
    "    max_d.append(max(d))"
   ]
  },
  {
   "cell_type": "code",
   "execution_count": null,
   "id": "10ca2048",
   "metadata": {},
   "outputs": [],
   "source": [
    "tehran = fo.Map(location=[35.7219, 51.3347], zoom_start=11)\n",
    "\n",
    "for i, r in enumerate(max_d):\n",
    "    fo.Circle(location=np.flip(centroids[i]), \n",
    "                    radius=(r+0.015)*1e5, \n",
    "                    color='grey',\n",
    "                    fill=False).add_to(tehran)\n",
    "\n",
    "for (i,lat,long,cluster) in zip(df.index.values, df.Lats, df.Longs, df.cluster):\n",
    "    fo.CircleMarker(location=(long,lat), \n",
    "                    radius=3, \n",
    "                    popup=i, \n",
    "                    color=color_pal[cluster], \n",
    "                    tooltip='cluster No. '+str(cluster), \n",
    "                    fill=True).add_to(tehran)\n"
   ]
  },
  {
   "cell_type": "code",
   "execution_count": null,
   "id": "ea73e3dc",
   "metadata": {
    "scrolled": true
   },
   "outputs": [],
   "source": [
    "tehran"
   ]
  },
  {
   "cell_type": "code",
   "execution_count": null,
   "id": "e01c20b3",
   "metadata": {},
   "outputs": [],
   "source": [
    "color_pal"
   ]
  },
  {
   "cell_type": "code",
   "execution_count": null,
   "id": "72a0945f",
   "metadata": {},
   "outputs": [],
   "source": [
    "df"
   ]
  },
  {
   "cell_type": "code",
   "execution_count": null,
   "id": "7bcccd65",
   "metadata": {},
   "outputs": [],
   "source": []
  },
  {
   "cell_type": "code",
   "execution_count": null,
   "id": "c962d572",
   "metadata": {},
   "outputs": [],
   "source": []
  }
 ],
 "metadata": {
  "kernelspec": {
   "display_name": "Python 3 (ipykernel)",
   "language": "python",
   "name": "python3"
  },
  "language_info": {
   "codemirror_mode": {
    "name": "ipython",
    "version": 3
   },
   "file_extension": ".py",
   "mimetype": "text/x-python",
   "name": "python",
   "nbconvert_exporter": "python",
   "pygments_lexer": "ipython3",
   "version": "3.11.8"
  }
 },
 "nbformat": 4,
 "nbformat_minor": 5
}
